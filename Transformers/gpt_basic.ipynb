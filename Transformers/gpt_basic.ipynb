{
  "nbformat": 4,
  "nbformat_minor": 0,
  "metadata": {
    "colab": {
      "provenance": [],
      "machine_shape": "hm",
      "gpuType": "T4"
    },
    "kernelspec": {
      "name": "python3",
      "display_name": "Python 3"
    },
    "language_info": {
      "name": "python"
    },
    "accelerator": "GPU"
  },
  "cells": [
    {
      "cell_type": "code",
      "execution_count": 1,
      "metadata": {
        "id": "KD6winXqmta0"
      },
      "outputs": [],
      "source": [
        "import torch\n",
        "import torch.nn as nn\n",
        "import torch.nn.functional as F\n",
        "import math\n",
        "import numpy"
      ]
    },
    {
      "cell_type": "code",
      "source": [
        "class PositionalEncoding(nn.Module):\n",
        "  def __init__(self, d_model, max_len=5000):\n",
        "    super(PositionalEncoding, self).__init__()\n",
        "    pe = torch.zeros(max_len, d_model)\n",
        "    posi = torch.arange(0, max_len, dtype=torch.float).unsqueeze(1)\n",
        "    div_term = torch.exp(torch.arange(0, d_model, 2).float() * (-math.log(10000.0) / d_model))\n",
        "    pe[:, 0::2] = torch.sin(posi * div_term)\n",
        "    pe[:, 1::2] = torch.cos(posi * div_term)\n",
        "    pe = pe.unsqueeze(0)\n",
        "    self.register_buffer('pe', pe)\n",
        "\n",
        "  def forward(self,x):\n",
        "    x = x + self.pe[:, :x.size(1)]\n",
        "    return x\n",
        "\n",
        "\n",
        "class MultiHeadSelfAttention(nn.Module):\n",
        "  def __init__(self, d_model, num_heads, dropout=0.1):\n",
        "    super().__init__()\n",
        "    assert d_model % num_heads == 0\n",
        "    self.num_heads = num_heads\n",
        "    self.d_k = d_model // num_heads\n",
        "\n",
        "    self.query = nn.Linear(d_model, d_model)\n",
        "    self.key   = nn.Linear(d_model, d_model)\n",
        "    self.value = nn.Linear(d_model, d_model)\n",
        "    self.out   = nn.Linear(d_model, d_model)\n",
        "    self.dropout = nn.Dropout(dropout)\n",
        "\n",
        "  def forward(self, x):\n",
        "    batch_size, seq_length, d_model = x.size()\n",
        "    Q = self.query(x).view(batch_size, seq_length, self.num_heads, self.d_k).transpose(1,2)\n",
        "    K = self.key(x).view(batch_size, seq_length, self.num_heads, self.d_k).transpose(1,2)\n",
        "    V = self.value(x).view(batch_size, seq_length, self.num_heads, self.d_k).transpose(1,2)\n",
        "\n",
        "    scores = torch.matmul(Q, K.transpose(-2, -1)) / math.sqrt(self.d_k)\n",
        "\n",
        "    mask = torch.triu(torch.ones(seq_length, seq_length), diagonal=1).bool().to(x.device)\n",
        "    scores = scores.masked_fill(mask, float('-inf'))\n",
        "\n",
        "    attn = F.softmax(scores, dim=-1)\n",
        "    attn = self.dropout(attn)\n",
        "    context = torch.matmul(attn, V)\n",
        "    context = context.transpose(1, 2).contiguous().view(batch_size, seq_length, d_model)\n",
        "    return self.out(context)\n",
        "\n",
        "class FeedForward(nn.Module):\n",
        "    def __init__(self, d_model, d_ff, dropout=0.1):\n",
        "        super().__init__()\n",
        "        self.net = nn.Sequential(\n",
        "            nn.Linear(d_model, d_ff),\n",
        "            nn.GELU(),\n",
        "            nn.Dropout(dropout),\n",
        "            nn.Linear(d_ff, d_model),\n",
        "            nn.Dropout(dropout)\n",
        "        )\n",
        "\n",
        "    def forward(self, x):\n",
        "        return self.net(x)\n",
        "\n",
        "\n",
        "class transformerblock(nn.Module):\n",
        "  def __init__(self, d_model, num_heads, d_ff, dropout=0.1):\n",
        "        super().__init__()\n",
        "        self.attn = MultiHeadSelfAttention(d_model, num_heads, dropout)\n",
        "        self.ln1  = nn.LayerNorm(d_model)\n",
        "        self.ff   = FeedForward(d_model, d_ff, dropout)\n",
        "        self.ln2  = nn.LayerNorm(d_model)\n",
        "        self.dropout = nn.Dropout(dropout)\n",
        "  def forward(self, x):\n",
        "        attn_out = self.attn(x)\n",
        "        x = self.ln1(x + self.dropout(attn_out))\n",
        "        ff_out = self.ff(x)\n",
        "        x = self.ln2(x + self.dropout(ff_out))\n",
        "        return x\n"
      ],
      "metadata": {
        "id": "VgPMCQnanPY6"
      },
      "execution_count": 8,
      "outputs": []
    },
    {
      "cell_type": "code",
      "source": [
        "class GPT(nn.Module):\n",
        "    def __init__(self, vocab_size, d_model, num_layers, num_heads, d_ff, max_len, dropout=0.1):\n",
        "        super().__init__()\n",
        "        self.token_embedding = nn.Embedding(vocab_size, d_model)\n",
        "        self.positional_encoding = PositionalEncoding(d_model, max_len)\n",
        "        self.blocks = nn.ModuleList(\n",
        "            [transformerblock(d_model, num_heads, d_ff, dropout) for _ in range(num_layers)]\n",
        "        )\n",
        "        self.ln_f = nn.LayerNorm(d_model)\n",
        "        self.head = nn.Linear(d_model, vocab_size)\n",
        "        self._init_weights()\n",
        "\n",
        "    def _init_weights(self):\n",
        "        for module in self.modules():\n",
        "            if isinstance(module, nn.Linear):\n",
        "                nn.init.xavier_uniform_(module.weight)\n",
        "                if module.bias is not None:\n",
        "                    nn.init.zeros_(module.bias)\n",
        "            elif isinstance(module, nn.Embedding):\n",
        "                nn.init.normal_(module.weight, mean=0, std=0.02)\n",
        "\n",
        "    def forward(self, x):\n",
        "        x = self.token_embedding(x)\n",
        "        x = self.positional_encoding(x)\n",
        "        for block in self.blocks:\n",
        "            x = block(x)\n",
        "        x = self.ln_f(x)\n",
        "        logits = self.head(x)\n",
        "        return logits"
      ],
      "metadata": {
        "id": "4v_yduvZrFne"
      },
      "execution_count": 11,
      "outputs": []
    },
    {
      "cell_type": "code",
      "source": [
        "if __name__ == '__main__':\n",
        "    #hyperparameters\n",
        "    vocab_size = 10000   # Size of your vocabulary\n",
        "    d_model = 128        # Embedding/hidden dimension\n",
        "    num_layers = 4       # Number of Transformer blocks\n",
        "    num_heads = 4        # Number of attention heads\n",
        "    d_ff = 512           # Dimension of the feed-forward network\n",
        "    max_len = 128        # Maximum sequence length\n",
        "    dropout = 0.1        # Dropout rate\n",
        "\n",
        "    # Initializing the model\n",
        "    model = GPT(vocab_size, d_model, num_layers, num_heads, d_ff, max_len, dropout)\n",
        "    print(model)"
      ],
      "metadata": {
        "colab": {
          "base_uri": "https://localhost:8080/"
        },
        "id": "LVsUM_Zguk9K",
        "outputId": "04a0df99-f482-4048-ff40-e0f043d683ae"
      },
      "execution_count": 12,
      "outputs": [
        {
          "output_type": "stream",
          "name": "stdout",
          "text": [
            "GPT(\n",
            "  (token_embedding): Embedding(10000, 128)\n",
            "  (positional_encoding): PositionalEncoding()\n",
            "  (blocks): ModuleList(\n",
            "    (0-3): 4 x transformerblock(\n",
            "      (attn): MultiHeadSelfAttention(\n",
            "        (query): Linear(in_features=128, out_features=128, bias=True)\n",
            "        (key): Linear(in_features=128, out_features=128, bias=True)\n",
            "        (value): Linear(in_features=128, out_features=128, bias=True)\n",
            "        (out): Linear(in_features=128, out_features=128, bias=True)\n",
            "        (dropout): Dropout(p=0.1, inplace=False)\n",
            "      )\n",
            "      (ln1): LayerNorm((128,), eps=1e-05, elementwise_affine=True)\n",
            "      (ff): FeedForward(\n",
            "        (net): Sequential(\n",
            "          (0): Linear(in_features=128, out_features=512, bias=True)\n",
            "          (1): GELU(approximate='none')\n",
            "          (2): Dropout(p=0.1, inplace=False)\n",
            "          (3): Linear(in_features=512, out_features=128, bias=True)\n",
            "          (4): Dropout(p=0.1, inplace=False)\n",
            "        )\n",
            "      )\n",
            "      (ln2): LayerNorm((128,), eps=1e-05, elementwise_affine=True)\n",
            "      (dropout): Dropout(p=0.1, inplace=False)\n",
            "    )\n",
            "  )\n",
            "  (ln_f): LayerNorm((128,), eps=1e-05, elementwise_affine=True)\n",
            "  (head): Linear(in_features=128, out_features=10000, bias=True)\n",
            ")\n"
          ]
        }
      ]
    }
  ]
}