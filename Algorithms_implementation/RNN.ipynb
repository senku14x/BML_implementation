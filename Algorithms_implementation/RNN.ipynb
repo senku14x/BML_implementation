{
  "nbformat": 4,
  "nbformat_minor": 0,
  "metadata": {
    "colab": {
      "provenance": []
    },
    "kernelspec": {
      "name": "python3",
      "display_name": "Python 3"
    },
    "language_info": {
      "name": "python"
    }
  },
  "cells": [
    {
      "cell_type": "code",
      "execution_count": 1,
      "metadata": {
        "colab": {
          "base_uri": "https://localhost:8080/"
        },
        "id": "MeKCBsRcuyj8",
        "outputId": "857ece5c-8eb3-4392-d367-5e7cc17e53d7"
      },
      "outputs": [
        {
          "output_type": "stream",
          "name": "stdout",
          "text": [
            "Forward Pass Outputs:\n",
            "[[-2.01600925e-04 -1.07620126e-03  1.33916057e-03]\n",
            " [-1.94870677e-04 -3.97884191e-04  4.63720546e-04]\n",
            " [ 8.13697322e-05 -6.59966741e-05  8.86773570e-05]\n",
            " [ 3.40023009e-04  4.71201408e-04 -3.48488060e-04]\n",
            " [ 6.44062211e-04  4.09715651e-04 -1.55816747e-05]\n",
            " [-1.80770270e-04 -4.56857358e-04  8.67482200e-04]\n",
            " [ 1.12238253e-03  1.70516506e-04  1.37462835e-04]\n",
            " [ 6.60920968e-04 -1.99340621e-04  6.08835489e-04]\n",
            " [ 2.85096706e-04 -2.75312162e-04  3.38428363e-04]\n",
            " [ 4.95014941e-04 -3.94255450e-04  6.68293608e-04]]\n",
            "\n",
            "Backward Pass Completed. Parameters updated.\n"
          ]
        }
      ],
      "source": [
        "import numpy as np\n",
        "\n",
        "class SimpleRNN:\n",
        "    def __init__(self, input_dim, hidden_dim, output_dim):\n",
        "        self.hidden_dim = hidden_dim\n",
        "        self.Wxh = np.random.randn(input_dim, hidden_dim) * 0.01\n",
        "        self.Whh = np.random.randn(hidden_dim, hidden_dim) * 0.01\n",
        "        self.Why = np.random.randn(hidden_dim, output_dim) * 0.01\n",
        "        self.bh = np.zeros((1, hidden_dim))\n",
        "        self.by = np.zeros((1, output_dim))\n",
        "\n",
        "    def forward(self, inputs):\n",
        "        T = inputs.shape[0]\n",
        "        self.inputs = inputs\n",
        "        self.hs = {}\n",
        "        self.hs[-1] = np.zeros((1, self.hidden_dim))\n",
        "        self.outputs = []\n",
        "\n",
        "        for t in range(T):\n",
        "            x_t = inputs[t].reshape(1, -1)\n",
        "            h_t = np.tanh(x_t.dot(self.Wxh) + self.hs[t-1].dot(self.Whh) + self.bh)\n",
        "            self.hs[t] = h_t\n",
        "            y_t = h_t.dot(self.Why) + self.by\n",
        "            self.outputs.append(y_t)\n",
        "\n",
        "        self.outputs = np.concatenate(self.outputs, axis=0)\n",
        "        return self.outputs\n",
        "\n",
        "    def backward(self, doutputs, learning_rate=0.001):\n",
        "        T = doutputs.shape[0]\n",
        "        dWhy = np.zeros_like(self.Why)\n",
        "        dWhh = np.zeros_like(self.Whh)\n",
        "        dWxh = np.zeros_like(self.Wxh)\n",
        "        dby = np.zeros_like(self.by)\n",
        "        dbh = np.zeros_like(self.bh)\n",
        "        dh_next = np.zeros((1, self.hidden_dim))\n",
        "\n",
        "        for t in reversed(range(T)):\n",
        "            dy = doutputs[t].reshape(1, -1)\n",
        "            dWhy += self.hs[t].T.dot(dy)\n",
        "            dby += dy\n",
        "            dh = dy.dot(self.Why.T) + dh_next\n",
        "            dtanh = (1 - self.hs[t] ** 2) * dh\n",
        "            dWxh += self.inputs[t].reshape(-1, 1).dot(dtanh)\n",
        "            dbh += dtanh\n",
        "            dWhh += self.hs[t-1].T.dot(dtanh)\n",
        "            dh_next = dtanh.dot(self.Whh.T)\n",
        "\n",
        "        self.Wxh -= learning_rate * dWxh\n",
        "        self.Whh -= learning_rate * dWhh\n",
        "        self.Why -= learning_rate * dWhy\n",
        "        self.bh  -= learning_rate * dbh\n",
        "        self.by  -= learning_rate * dby\n",
        "\n",
        "if __name__ == \"__main__\":\n",
        "    input_dim = 4\n",
        "    hidden_dim = 5\n",
        "    output_dim = 3\n",
        "    sequence_length = 10\n",
        "\n",
        "    rnn = SimpleRNN(input_dim, hidden_dim, output_dim)\n",
        "    inputs = np.random.randn(sequence_length, input_dim)\n",
        "    outputs = rnn.forward(inputs)\n",
        "    print(\"Forward Pass Outputs:\")\n",
        "    print(outputs)\n",
        "\n",
        "    doutputs = np.ones((sequence_length, output_dim))\n",
        "    rnn.backward(doutputs, learning_rate=0.01)\n",
        "\n",
        "    print(\"\\nBackward Pass Completed. Parameters updated.\")\n"
      ]
    }
  ]
}