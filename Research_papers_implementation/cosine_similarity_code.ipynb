{
  "nbformat": 4,
  "nbformat_minor": 0,
  "metadata": {
    "colab": {
      "provenance": []
    },
    "kernelspec": {
      "name": "python3",
      "display_name": "Python 3"
    },
    "language_info": {
      "name": "python"
    }
  },
  "cells": [
    {
      "cell_type": "code",
      "execution_count": 1,
      "metadata": {
        "id": "cxOeQdPT1xBl",
        "colab": {
          "base_uri": "https://localhost:8080/"
        },
        "outputId": "cf41b723-e799-4498-cd90-6b88e891fc1c"
      },
      "outputs": [
        {
          "output_type": "stream",
          "name": "stdout",
          "text": [
            "Cosine Similarity (1D): 0.9746317863464355\n",
            "Cosine Similarity (batch): tensor([0.9746, 0.9746])\n"
          ]
        }
      ],
      "source": [
        "import torch\n",
        "\n",
        "def cosine_similarity(x, y, eps=1e-8):\n",
        "\n",
        "    # Compute the dot product along the last dimension\n",
        "    dot_product = torch.sum(x * y, dim=-1)\n",
        "    # Compute the L2 norms of x and y along the last dimension\n",
        "    norm_x = torch.sqrt(torch.sum(x * x, dim=-1))\n",
        "    norm_y = torch.sqrt(torch.sum(y * y, dim=-1))\n",
        "    # Compute cosine similarity, adding eps for numerical stability\n",
        "    cosine_sim = dot_product / (norm_x * norm_y + eps)\n",
        "    return cosine_sim\n",
        "\n",
        "# For 1D tensors (vectors)\n",
        "x = torch.tensor([1.0, 2.0, 3.0])\n",
        "y = torch.tensor([4.0, 5.0, 6.0])\n",
        "print(\"Cosine Similarity (1D):\", cosine_similarity(x, y).item())\n",
        "\n",
        "# For 2D tensors (e.g., batch of vectors)\n",
        "x_batch = torch.tensor([[1.0, 2.0, 3.0],\n",
        "                        [4.0, 5.0, 6.0]])\n",
        "y_batch = torch.tensor([[4.0, 5.0, 6.0],\n",
        "                        [1.0, 2.0, 3.0]])\n",
        "# Here, cosine_similarity computes similarity for each pair along the last dimension.\n",
        "print(\"Cosine Similarity (batch):\", cosine_similarity(x_batch, y_batch))\n",
        "\n",
        "#similarly i can convert text into embeddings then we can find out their correlation or similarity sorts of\n"
      ]
    }
  ]
}